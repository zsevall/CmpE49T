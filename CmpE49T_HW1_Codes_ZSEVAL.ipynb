{
 "cells": [
  {
   "cell_type": "code",
   "execution_count": 18,
   "id": "2adbe364-b268-4b16-8916-70ccbd92f00b",
   "metadata": {},
   "outputs": [],
   "source": [
    "# PROBLEM 1\n",
    "# STEP 1\n",
    "# Definition of the input image and filters\n",
    "I = np.array([\n",
    "    [-1, 2, -2, 0, 1],\n",
    "    [3, -3, 1, 2, 0],\n",
    "    [-1, 0, 2, -1, 3],\n",
    "    [2, 1, -2, -3, 0],\n",
    "    [-3, 2, 0, 1, -1]\n",
    "])\n",
    "\n",
    "F1 = np.array([[1, -1], [0, 1]])\n",
    "F2 = np.array([[-1, 0], [1, 1]])\n",
    "\n",
    "# Compute convolutions\n",
    "feature_map1 = convolve2d(I, F1)\n",
    "feature_map2 = convolve2d(I, F2)"
   ]
  },
  {
   "cell_type": "code",
   "execution_count": 19,
   "id": "df6ea9d2-f73d-4893-9bda-e586e0a8445e",
   "metadata": {},
   "outputs": [
    {
     "name": "stdout",
     "output_type": "stream",
     "text": [
      "[[-6.  5.  0. -1.]\n",
      " [ 6. -2. -2.  5.]\n",
      " [ 0. -4.  0. -4.]\n",
      " [ 3.  3.  2. -4.]]\n"
     ]
    }
   ],
   "source": [
    "print(feature_map1)"
   ]
  },
  {
   "cell_type": "code",
   "execution_count": 20,
   "id": "a491facb-43f9-4069-95ba-209a3f6e115d",
   "metadata": {},
   "outputs": [
    {
     "name": "stdout",
     "output_type": "stream",
     "text": [
      "[[ 1. -4.  5.  2.]\n",
      " [-4.  5.  0.  0.]\n",
      " [ 4. -1. -7. -2.]\n",
      " [-3.  1.  3.  3.]]\n"
     ]
    }
   ],
   "source": [
    "print(feature_map2)"
   ]
  },
  {
   "cell_type": "code",
   "execution_count": 21,
   "id": "5d9946df-1246-426c-95ac-425049b0f439",
   "metadata": {},
   "outputs": [],
   "source": [
    "# STEP 2\n",
    "# Apply activations to feature maps\n",
    "activations = ['relu', 'sigmoid', 'tanh']\n",
    "activated_maps = {\n",
    "    act: {\n",
    "        'F1': apply_activation(feature_map1, act),\n",
    "        'F2': apply_activation(feature_map2, act)\n",
    "    }\n",
    "    for act in activations\n",
    "}"
   ]
  },
  {
   "cell_type": "code",
   "execution_count": 22,
   "id": "f0c64c4c-b390-4fff-8a80-c726144bbd51",
   "metadata": {},
   "outputs": [
    {
     "data": {
      "text/plain": [
       "{'relu': {'F1': array([[0., 5., 0., 0.],\n",
       "         [6., 0., 0., 5.],\n",
       "         [0., 0., 0., 0.],\n",
       "         [3., 3., 2., 0.]]),\n",
       "  'F2': array([[1., 0., 5., 2.],\n",
       "         [0., 5., 0., 0.],\n",
       "         [4., 0., 0., 0.],\n",
       "         [0., 1., 3., 3.]])},\n",
       " 'sigmoid': {'F1': array([[0.00247262, 0.99330715, 0.5       , 0.26894142],\n",
       "         [0.99752738, 0.11920292, 0.11920292, 0.99330715],\n",
       "         [0.5       , 0.01798621, 0.5       , 0.01798621],\n",
       "         [0.95257413, 0.95257413, 0.88079708, 0.01798621]]),\n",
       "  'F2': array([[7.31058579e-01, 1.79862100e-02, 9.93307149e-01, 8.80797078e-01],\n",
       "         [1.79862100e-02, 9.93307149e-01, 5.00000000e-01, 5.00000000e-01],\n",
       "         [9.82013790e-01, 2.68941421e-01, 9.11051194e-04, 1.19202922e-01],\n",
       "         [4.74258732e-02, 7.31058579e-01, 9.52574127e-01, 9.52574127e-01]])},\n",
       " 'tanh': {'F1': array([[-0.99998771,  0.9999092 ,  0.        , -0.76159416],\n",
       "         [ 0.99998771, -0.96402758, -0.96402758,  0.9999092 ],\n",
       "         [ 0.        , -0.9993293 ,  0.        , -0.9993293 ],\n",
       "         [ 0.99505475,  0.99505475,  0.96402758, -0.9993293 ]]),\n",
       "  'F2': array([[ 0.76159416, -0.9993293 ,  0.9999092 ,  0.96402758],\n",
       "         [-0.9993293 ,  0.9999092 ,  0.        ,  0.        ],\n",
       "         [ 0.9993293 , -0.76159416, -0.99999834, -0.96402758],\n",
       "         [-0.99505475,  0.76159416,  0.99505475,  0.99505475]])}}"
      ]
     },
     "execution_count": 22,
     "metadata": {},
     "output_type": "execute_result"
    }
   ],
   "source": [
    "activated_maps"
   ]
  },
  {
   "cell_type": "code",
   "execution_count": 23,
   "id": "58736771-5324-4cf6-b283-05ae79d054c5",
   "metadata": {},
   "outputs": [],
   "source": [
    "# STEP 3\n",
    "pool_methods = ['max', 'min', 'avg']\n",
    "pool_size = 2\n",
    "\n",
    "pooled_outputs = {\n",
    "    act: {\n",
    "        'F1': {method: pooling2d(activated_maps[act]['F1'], pool_size, method)\n",
    "               for method in pool_methods},\n",
    "        'F2': {method: pooling2d(activated_maps[act]['F2'], pool_size, method)\n",
    "               for method in pool_methods}\n",
    "    }\n",
    "    for act in activations\n",
    "}"
   ]
  },
  {
   "cell_type": "code",
   "execution_count": 12,
   "id": "b655d968-ae1f-4875-986a-482eba298610",
   "metadata": {},
   "outputs": [
    {
     "data": {
      "text/plain": [
       "{'relu': {'F1': {'max': array([[6., 5.],\n",
       "          [3., 2.]]),\n",
       "   'min': array([[0., 0.],\n",
       "          [0., 0.]]),\n",
       "   'avg': array([[2.75, 1.25],\n",
       "          [1.5 , 0.5 ]])},\n",
       "  'F2': {'max': array([[5., 5.],\n",
       "          [4., 3.]]),\n",
       "   'min': array([[0., 0.],\n",
       "          [0., 0.]]),\n",
       "   'avg': array([[1.5 , 1.75],\n",
       "          [1.25, 1.5 ]])}},\n",
       " 'sigmoid': {'F1': {'max': array([[0.99752738, 0.99330715],\n",
       "          [0.95257413, 0.88079708]]),\n",
       "   'min': array([[0.00247262, 0.11920292],\n",
       "          [0.01798621, 0.01798621]]),\n",
       "   'avg': array([[0.52812752, 0.47036287],\n",
       "          [0.60578362, 0.35419237]])},\n",
       "  'F2': {'max': array([[0.99330715, 0.99330715],\n",
       "          [0.98201379, 0.95257413]]),\n",
       "   'min': array([[0.01798621, 0.5       ],\n",
       "          [0.04742587, 0.00091105]]),\n",
       "   'avg': array([[0.44008454, 0.71852606],\n",
       "          [0.50735992, 0.50631556]])}},\n",
       " 'tanh': {'F1': {'max': array([[0.99998771, 0.9999092 ],\n",
       "          [0.99505475, 0.96402758]]),\n",
       "   'min': array([[-0.99998771, -0.96402758],\n",
       "          [-0.9993293 , -0.9993293 ]]),\n",
       "   'avg': array([[ 0.00897041, -0.18142813],\n",
       "          [ 0.24769505, -0.25865775]])},\n",
       "  'F2': {'max': array([[0.9999092 , 0.9999092 ],\n",
       "          [0.9993293 , 0.99505475]]),\n",
       "   'min': array([[-0.9993293 ,  0.        ],\n",
       "          [-0.99505475, -0.99999834]]),\n",
       "   'avg': array([[-0.05928881,  0.4909842 ],\n",
       "          [ 0.00106864,  0.0065209 ]])}}}"
      ]
     },
     "execution_count": 12,
     "metadata": {},
     "output_type": "execute_result"
    }
   ],
   "source": [
    "pooled_outputs"
   ]
  },
  {
   "cell_type": "code",
   "execution_count": 24,
   "id": "9d9df0c2-6441-468b-b016-538d9d88e563",
   "metadata": {},
   "outputs": [
    {
     "name": "stdout",
     "output_type": "stream",
     "text": [
      "4.0\n",
      "-1.0\n"
     ]
    }
   ],
   "source": [
    "# STEP 4\n",
    "# Flatten the pooled outputs\n",
    "flattened_F1 = pooled_outputs['relu']['F1']['max'].flatten()  # [6, 5, 4, 2]\n",
    "flattened_F2 = pooled_outputs['relu']['F2']['max'].flatten()  # [5, 5, 4, 3]\n",
    "\n",
    "# Define weights and biases\n",
    "W1 = np.array([1, -1, 0, 1])\n",
    "W2 = np.array([0, 1, -1, -1])\n",
    "b1, b2 = 1, -1\n",
    "\n",
    "# Compute neuron outputs\n",
    "y1 = np.dot(W1, flattened_F1) + b1  # Using F1 output\n",
    "y2 = np.dot(W2, flattened_F1) + b2  # Using F1 output\n",
    "print(y1)\n",
    "print(y2)"
   ]
  },
  {
   "cell_type": "code",
   "execution_count": 25,
   "id": "eb2952a3-42e6-4640-87b5-b17962950faa",
   "metadata": {},
   "outputs": [
    {
     "data": {
      "text/plain": [
       "array([0.99330715, 0.00669285])"
      ]
     },
     "execution_count": 25,
     "metadata": {},
     "output_type": "execute_result"
    }
   ],
   "source": [
    "# STEP 5\n",
    "# Apply softmax to get probabilities\n",
    "probs = softmax(np.array([y1, y2]))\n",
    "probs"
   ]
  },
  {
   "cell_type": "code",
   "execution_count": 38,
   "id": "ee038097-2c69-411a-a2b9-137bb2bc8371",
   "metadata": {},
   "outputs": [],
   "source": [
    "# PROBLEM 2\n",
    "import numpy as np\n",
    "\n",
    "# Data\n",
    "X = np.array([\n",
    "    [-1, 2],\n",
    "    [2, -2],\n",
    "    [-2, 1],\n",
    "    [1, 1],\n",
    "    [-1, -1]\n",
    "])\n",
    "y = np.array([1.5, 0.5, -1.0, 1.0, -1.5])"
   ]
  },
  {
   "cell_type": "code",
   "execution_count": 39,
   "id": "a9b6385d-2052-49c0-9969-8281f710696e",
   "metadata": {},
   "outputs": [],
   "source": [
    "class RegressionModel:\n",
    "    def __init__(self, reg_type='ridge', lambda_reg=0.1, learning_rate=0.1):\n",
    "        self.reg_type = reg_type\n",
    "        self.lambda_reg = lambda_reg\n",
    "        self.lr = learning_rate\n",
    "        self.w1 = 0\n",
    "        self.w2 = 0\n",
    "        self.w3 = 0\n",
    "        self.b = 0\n",
    "        \n",
    "    def predict(self, X):\n",
    "        return (self.w1 * X[:, 0] + \n",
    "                self.w2 * X[:, 1] + \n",
    "                self.w3 * (X[:, 0] * X[:, 1]) + \n",
    "                self.b)\n",
    "    \n",
    "    def compute_metrics(self, X, y):\n",
    "        predictions = self.predict(X)\n",
    "        mse = np.mean((predictions - y) ** 2)\n",
    "        mae = np.mean(np.abs(predictions - y))\n",
    "        \n",
    "        if self.reg_type == 'ridge':\n",
    "            reg_term = self.lambda_reg * (self.w1**2 + self.w2**2 + self.w3**2)\n",
    "        else:  # lasso\n",
    "            reg_term = self.lambda_reg * (np.abs(self.w1) + np.abs(self.w2) + np.abs(self.w3))\n",
    "            \n",
    "        total_loss = mse + reg_term\n",
    "        return total_loss, mse, mae\n",
    "    \n",
    "    def gradient_step(self, X, y):\n",
    "        predictions = self.predict(X)\n",
    "        errors = predictions - y\n",
    "        N = len(y)\n",
    "        \n",
    "        # Common gradient terms\n",
    "        grad_w1 = (2/N) * np.sum(errors * X[:, 0])\n",
    "        grad_w2 = (2/N) * np.sum(errors * X[:, 1])\n",
    "        grad_w3 = (2/N) * np.sum(errors * (X[:, 0] * X[:, 1]))\n",
    "        grad_b = (2/N) * np.sum(errors)\n",
    "        \n",
    "        # Add regularization terms\n",
    "        if self.reg_type == 'ridge':\n",
    "            grad_w1 += 2 * self.lambda_reg * self.w1\n",
    "            grad_w2 += 2 * self.lambda_reg * self.w2\n",
    "            grad_w3 += 2 * self.lambda_reg * self.w3\n",
    "        else:  # lasso\n",
    "            grad_w1 += self.lambda_reg * np.sign(self.w1) if self.w1 != 0 else 0\n",
    "            grad_w2 += self.lambda_reg * np.sign(self.w2) if self.w2 != 0 else 0\n",
    "            grad_w3 += self.lambda_reg * np.sign(self.w3) if self.w3 != 0 else 0\n",
    "        \n",
    "        # Update parameters\n",
    "        self.w1 -= self.lr * grad_w1\n",
    "        self.w2 -= self.lr * grad_w2\n",
    "        self.w3 -= self.lr * grad_w3\n",
    "        self.b -= self.lr * grad_b\n",
    "        \n",
    "        return grad_w1, grad_w2, grad_w3, grad_b\n",
    "\n",
    "def train_until_convergence(model, X, y, tol=1e-6, max_iter=10000):\n",
    "    prev_loss = float('inf')\n",
    "    history = []\n",
    "    \n",
    "    for iteration in range(max_iter):\n",
    "        # Perform gradient step\n",
    "        grads = model.gradient_step(X, y)\n",
    "        \n",
    "        # Compute current metrics\n",
    "        loss, mse, mae = model.compute_metrics(X, y)\n",
    "        history.append((loss, mse, mae))\n",
    "        \n",
    "        # Check convergence\n",
    "        if abs(prev_loss - loss) < tol:\n",
    "            print(f\"\\n{model.reg_type.capitalize()} regression converged after {iteration+1} iterations\")\n",
    "            break\n",
    "            \n",
    "        prev_loss = loss\n",
    "        \n",
    "        # Print progress every 1000 iterations\n",
    "        if (iteration + 1) % 1000 == 0:\n",
    "            print(f\"Iteration {iteration+1}: Loss = {loss:.6f}, MSE = {mse:.6f}, MAE = {mae:.6f}\")\n",
    "    \n",
    "    return history"
   ]
  },
  {
   "cell_type": "code",
   "execution_count": 41,
   "id": "9bcfd782-7b4a-4d97-a1e9-289412584edb",
   "metadata": {},
   "outputs": [
    {
     "name": "stdout",
     "output_type": "stream",
     "text": [
      "Training Ridge Regression...\n",
      "\n",
      "Ridge regression converged after 31 iterations\n",
      "\n",
      "Final Ridge Parameters:\n",
      "w1 = 0.673555\n",
      "w2 = 0.689465\n",
      "w3 = -0.152448\n",
      "b = -0.084946\n",
      "Final Ridge MSE: 0.134470\n",
      "Final Ridge MAE: 0.273998\n",
      "\n",
      "Training Lasso Regression...\n",
      "\n",
      "Lasso regression converged after 32 iterations\n",
      "\n",
      "Final Lasso Parameters:\n",
      "w1 = 0.693109\n",
      "w2 = 0.705802\n",
      "w3 = -0.142751\n",
      "b = -0.072909\n",
      "Final Lasso MSE: 0.130865\n",
      "Final Lasso MAE: 0.285240\n"
     ]
    },
    {
     "data": {
      "image/png": "[encoded data removed]",
      "text/plain": [
       "<Figure size 1500x500 with 3 Axes>"
      ]
     },
     "metadata": {},
     "output_type": "display_data"
    },
    {
     "name": "stdout",
     "output_type": "stream",
     "text": [
      "\n",
      "Final Values after Convergence:\n",
      "==================================================\n",
      "Ridge Regression:\n",
      "Total Loss: 0.229698\n",
      "MSE: 0.134470\n",
      "MAE: 0.273998\n",
      "\n",
      "Lasso Regression:\n",
      "Total Loss: 0.285031\n",
      "MSE: 0.130865\n",
      "MAE: 0.285240\n"
     ]
    }
   ],
   "source": [
    "# Train both models\n",
    "print(\"Training Ridge Regression...\")\n",
    "ridge_model = RegressionModel(reg_type='ridge')\n",
    "ridge_history = train_until_convergence(ridge_model, X, y)\n",
    "\n",
    "print(\"\\nFinal Ridge Parameters:\")\n",
    "print(f\"w1 = {ridge_model.w1:.6f}\")\n",
    "print(f\"w2 = {ridge_model.w2:.6f}\")\n",
    "print(f\"w3 = {ridge_model.w3:.6f}\")\n",
    "print(f\"b = {ridge_model.b:.6f}\")\n",
    "final_ridge_loss, final_ridge_mse, final_ridge_mae = ridge_model.compute_metrics(X, y)\n",
    "print(f\"Final Ridge MSE: {final_ridge_mse:.6f}\")\n",
    "print(f\"Final Ridge MAE: {final_ridge_mae:.6f}\")\n",
    "\n",
    "print(\"\\nTraining Lasso Regression...\")\n",
    "lasso_model = RegressionModel(reg_type='lasso')\n",
    "lasso_history = train_until_convergence(lasso_model, X, y)\n",
    "\n",
    "print(\"\\nFinal Lasso Parameters:\")\n",
    "print(f\"w1 = {lasso_model.w1:.6f}\")\n",
    "print(f\"w2 = {lasso_model.w2:.6f}\")\n",
    "print(f\"w3 = {lasso_model.w3:.6f}\")\n",
    "print(f\"b = {lasso_model.b:.6f}\")\n",
    "final_lasso_loss, final_lasso_mse, final_lasso_mae = lasso_model.compute_metrics(X, y)\n",
    "print(f\"Final Lasso MSE: {final_lasso_mse:.6f}\")\n",
    "print(f\"Final Lasso MAE: {final_lasso_mae:.6f}\")\n",
    "\n",
    "# Plots for better visualization\n",
    "plt.figure(figsize=(15, 5))\n",
    "\n",
    "# Plot 1: Total Loss (Loss including regularization term)\n",
    "plt.subplot(1, 3, 1)\n",
    "plt.plot([loss for loss, _, _ in ridge_history], label='Ridge', color='blue')\n",
    "plt.plot([loss for loss, _, _ in lasso_history], label='Lasso', color='red')\n",
    "plt.xlabel('Iteration')\n",
    "plt.ylabel('Total Loss')\n",
    "plt.title('Total Loss Convergence\\n(Including Regularization)')\n",
    "plt.legend()\n",
    "plt.grid(True)\n",
    "\n",
    "# Plot 2: MSE\n",
    "plt.subplot(1, 3, 2)\n",
    "plt.plot([mse for _, mse, _ in ridge_history], label='Ridge', color='blue')\n",
    "plt.plot([mse for _, mse, _ in lasso_history], label='Lasso', color='red')\n",
    "plt.xlabel('Iteration')\n",
    "plt.ylabel('MSE')\n",
    "plt.title('Mean Squared Error\\n(Without Regularization)')\n",
    "plt.legend()\n",
    "plt.grid(True)\n",
    "\n",
    "# Plot 3: MAE\n",
    "plt.subplot(1, 3, 3)\n",
    "plt.plot([mae for _, _, mae in ridge_history], label='Ridge', color='blue')\n",
    "plt.plot([mae for _, _, mae in lasso_history], label='Lasso', color='red')\n",
    "plt.xlabel('Iteration')\n",
    "plt.ylabel('MAE')\n",
    "plt.title('Mean Absolute Error')\n",
    "plt.legend()\n",
    "plt.grid(True)\n",
    "\n",
    "plt.tight_layout()\n",
    "plt.show()\n",
    "\n",
    "# Print final values for clarity\n",
    "print(\"\\nFinal Values after Convergence:\")\n",
    "print(\"=\" * 50)\n",
    "print(\"Ridge Regression:\")\n",
    "print(f\"Total Loss: {final_ridge_loss:.6f}\")\n",
    "print(f\"MSE: {final_ridge_mse:.6f}\")\n",
    "print(f\"MAE: {final_ridge_mae:.6f}\")\n",
    "\n",
    "print(\"\\nLasso Regression:\")\n",
    "print(f\"Total Loss: {final_lasso_loss:.6f}\")\n",
    "print(f\"MSE: {final_lasso_mse:.6f}\")\n",
    "print(f\"MAE: {final_lasso_mae:.6f}\")"
   ]
  },
  {
   "cell_type": "code",
   "execution_count": null,
   "id": "62b08680-6aab-4822-a9dd-86cb622dba77",
   "metadata": {},
   "outputs": [],
   "source": []
  }
 ],
 "metadata": {
  "kernelspec": {
   "display_name": "Python 3 (ipykernel)",
   "language": "python",
   "name": "python3"
  },
  "language_info": {
   "codemirror_mode": {
    "name": "ipython",
    "version": 3
   },
   "file_extension": ".py",
   "mimetype": "text/x-python",
   "name": "python",
   "nbconvert_exporter": "python",
   "pygments_lexer": "ipython3",
   "version": "3.12.4"
  }
 },
 "nbformat": 4,
 "nbformat_minor": 5
}
